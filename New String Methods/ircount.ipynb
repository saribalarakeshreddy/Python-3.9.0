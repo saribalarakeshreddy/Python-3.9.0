{
 "cells": [
  {
   "cell_type": "markdown",
   "id": "found-landscape",
   "metadata": {},
   "source": [
    "## New String Method\n",
    "Description: \n",
    "- Takes two strings as input Main string and Sub string/Character\n",
    "- finds the count and respective indexes of the sub string in the main string\n",
    "- returns the count and respective indexes\n",
    "- returns none if there is no substring or character found in the main string"
   ]
  },
  {
   "cell_type": "code",
   "execution_count": 7,
   "id": "every-token",
   "metadata": {},
   "outputs": [],
   "source": [
    "def ircount(Main_Str,Sub_Str):\n",
    "    \"\"\"ircount takes two arguments (Mainstring,Substring)\n",
    "            ircount finds the count of the given substring in the main string and their respective indexes\"\"\"\n",
    "    if Sub_Str in Main_Str:\n",
    "        count = Main_Str.count(Sub_Str)\n",
    "        indx=[]\n",
    "        for i in range(len(Main_Str)):\n",
    "            if Sub_Str==Main_Str[i:i+len(Sub_Str)]:\n",
    "                indx.append(i)\n",
    "        if count==1:\n",
    "            print('count: {0}, and index :{1}'.format(count,dict(enumerate(indx))))\n",
    "        else:\n",
    "            print('count: {0}, and respective indexes are: {1}'.format(count,dict(enumerate(indx))))\n",
    "    else:\n",
    "        print(None)"
   ]
  },
  {
   "cell_type": "code",
   "execution_count": 3,
   "id": "adaptive-porcelain",
   "metadata": {},
   "outputs": [
    {
     "name": "stdin",
     "output_type": "stream",
     "text": [
      " h\n"
     ]
    },
    {
     "name": "stdout",
     "output_type": "stream",
     "text": [
      "count: 12, and respective indexes are: {0: 74, 1: 81, 2: 167, 3: 195, 4: 319, 5: 325, 6: 331, 7: 357, 8: 371, 9: 394, 10: 400, 11: 406}\n"
     ]
    }
   ],
   "source": [
    "String='You have been tasked with developing a mortgage affordability test tool. A component is to compute the monthly interest payments for a range of scenarios. Interest on a particular mortgage is charged at fixed rate above the Bank of England (BoE) \\'official Bank Rate\\'. Interest is computed per annum, and interest payments spread equally over each month of the year. Write a program that computes the interest payable each month, with variables for:'\n",
    "substring=input()\n",
    "ircount(String[26:],substring)"
   ]
  }
 ],
 "metadata": {
  "kernelspec": {
   "display_name": "Python 3",
   "language": "python",
   "name": "python3"
  },
  "language_info": {
   "codemirror_mode": {
    "name": "ipython",
    "version": 3
   },
   "file_extension": ".py",
   "mimetype": "text/x-python",
   "name": "python",
   "nbconvert_exporter": "python",
   "pygments_lexer": "ipython3",
   "version": "3.9.0"
  }
 },
 "nbformat": 4,
 "nbformat_minor": 5
}
